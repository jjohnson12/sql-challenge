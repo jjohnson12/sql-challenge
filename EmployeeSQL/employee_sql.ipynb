{
 "cells": [
  {
   "cell_type": "code",
   "execution_count": 13,
   "metadata": {},
   "outputs": [],
   "source": [
    "# Import dependencies\n",
    "\n",
    "from sqlalchemy import create_engine, inspect, join\n",
    "from sqlalchemy.ext.automap import automap_base\n",
    "from sqlalchemy.orm import Session\n",
    "\n",
    "import psycopg2\n",
    "import databaseconfig as cfg\n",
    "\n",
    "import pandas as pd\n",
    "import matplotlib\n",
    "from matplotlib import style\n",
    "style.use('seaborn')\n",
    "import matplotlib.pyplot as plt\n",
    "\n",
    "import numpy as np\n",
    "import re"
   ]
  },
  {
   "cell_type": "code",
   "execution_count": 14,
   "metadata": {},
   "outputs": [],
   "source": [
    "sql = (f'{cfg.mysql[\"intro\"]}{cfg.mysql[\"key\"]}{cfg.mysql[\"foot\"]}')\n",
    "\n",
    "engine = create_engine(sql)\n",
    "connection = engine.connect()"
   ]
  },
  {
   "cell_type": "code",
   "execution_count": 15,
   "metadata": {},
   "outputs": [],
   "source": [
    "conn = engine.connect()"
   ]
  },
  {
   "cell_type": "code",
   "execution_count": 16,
   "metadata": {},
   "outputs": [
    {
     "data": {
      "text/plain": [
       "0        1986-06-26\n",
       "1        1996-08-03\n",
       "2        1995-12-03\n",
       "3        1986-12-01\n",
       "4        1995-12-01\n",
       "            ...    \n",
       "443303   1987-08-30\n",
       "443304   1992-08-29\n",
       "443305   1998-12-27\n",
       "443306   1993-12-27\n",
       "443307   1997-11-30\n",
       "Name: from_date, Length: 443308, dtype: datetime64[ns]"
      ]
     },
     "execution_count": 16,
     "metadata": {},
     "output_type": "execute_result"
    }
   ],
   "source": [
    "# Create DF from the tables.\n",
    "\n",
    "# Employees.\n",
    "employee = pd.read_sql(\"SELECT * FROM employees\", conn)\n",
    "\n",
    "# Salaries.\n",
    "salaries = pd.read_sql(\"SELECT * FROM salaries\", conn)\n",
    "\n",
    "#Titles.\n",
    "titles = pd.read_sql(\"SELECT * FROM titles\", conn)\n",
    "pd.to_datetime(titles['from_date'])"
   ]
  },
  {
   "cell_type": "markdown",
   "metadata": {},
   "source": [
    "### Expecting 300,034 employee entries from SQL. Count function suggests there are no empty or NaN cells."
   ]
  },
  {
   "cell_type": "code",
   "execution_count": 17,
   "metadata": {},
   "outputs": [
    {
     "data": {
      "text/plain": [
       "emp_no        300024\n",
       "birth_date    300024\n",
       "first_name    300024\n",
       "last_name     300024\n",
       "sex           300024\n",
       "hire_date     300024\n",
       "dtype: int64"
      ]
     },
     "execution_count": 17,
     "metadata": {},
     "output_type": "execute_result"
    }
   ],
   "source": [
    "# Check # of records based on emp_no. ## Verified this in pgAdmin.\n",
    "employee.count()"
   ]
  },
  {
   "cell_type": "code",
   "execution_count": 18,
   "metadata": {},
   "outputs": [
    {
     "data": {
      "text/plain": [
       "emp_no       300024\n",
       "salary       300024\n",
       "from_date    300024\n",
       "to_date      300024\n",
       "dtype: int64"
      ]
     },
     "execution_count": 18,
     "metadata": {},
     "output_type": "execute_result"
    }
   ],
   "source": [
    "# Check # of records based on emp_no. ## Verified this in pgAdmin.\n",
    "salaries.count()"
   ]
  },
  {
   "cell_type": "code",
   "execution_count": 19,
   "metadata": {},
   "outputs": [
    {
     "data": {
      "text/plain": [
       "emp_no       443308\n",
       "title        443308\n",
       "from_date    443308\n",
       "to_date      443308\n",
       "dtype: int64"
      ]
     },
     "execution_count": 19,
     "metadata": {},
     "output_type": "execute_result"
    }
   ],
   "source": [
    "# Check # of records based on emp_no. ## Verified this in pgAdmin.\n",
    "titles.count()"
   ]
  },
  {
   "cell_type": "code",
   "execution_count": 20,
   "metadata": {},
   "outputs": [
    {
     "data": {
      "text/html": [
       "<div>\n",
       "<style scoped>\n",
       "    .dataframe tbody tr th:only-of-type {\n",
       "        vertical-align: middle;\n",
       "    }\n",
       "\n",
       "    .dataframe tbody tr th {\n",
       "        vertical-align: top;\n",
       "    }\n",
       "\n",
       "    .dataframe thead th {\n",
       "        text-align: right;\n",
       "    }\n",
       "</style>\n",
       "<table border=\"1\" class=\"dataframe\">\n",
       "  <thead>\n",
       "    <tr style=\"text-align: right;\">\n",
       "      <th></th>\n",
       "      <th>emp_no</th>\n",
       "      <th>title</th>\n",
       "      <th>from_date</th>\n",
       "      <th>to_date</th>\n",
       "    </tr>\n",
       "  </thead>\n",
       "  <tbody>\n",
       "    <tr>\n",
       "      <td>0</td>\n",
       "      <td>10001</td>\n",
       "      <td>Senior Engineer</td>\n",
       "      <td>1986-06-26</td>\n",
       "      <td>9999-01-01</td>\n",
       "    </tr>\n",
       "    <tr>\n",
       "      <td>1</td>\n",
       "      <td>10002</td>\n",
       "      <td>Staff</td>\n",
       "      <td>1996-08-03</td>\n",
       "      <td>9999-01-01</td>\n",
       "    </tr>\n",
       "    <tr>\n",
       "      <td>2</td>\n",
       "      <td>10003</td>\n",
       "      <td>Senior Engineer</td>\n",
       "      <td>1995-12-03</td>\n",
       "      <td>9999-01-01</td>\n",
       "    </tr>\n",
       "    <tr>\n",
       "      <td>3</td>\n",
       "      <td>10004</td>\n",
       "      <td>Engineer</td>\n",
       "      <td>1986-12-01</td>\n",
       "      <td>1995-12-01</td>\n",
       "    </tr>\n",
       "    <tr>\n",
       "      <td>4</td>\n",
       "      <td>10004</td>\n",
       "      <td>Senior Engineer</td>\n",
       "      <td>1995-12-01</td>\n",
       "      <td>9999-01-01</td>\n",
       "    </tr>\n",
       "  </tbody>\n",
       "</table>\n",
       "</div>"
      ],
      "text/plain": [
       "   emp_no            title   from_date     to_date\n",
       "0   10001  Senior Engineer  1986-06-26  9999-01-01\n",
       "1   10002            Staff  1996-08-03  9999-01-01\n",
       "2   10003  Senior Engineer  1995-12-03  9999-01-01\n",
       "3   10004         Engineer  1986-12-01  1995-12-01\n",
       "4   10004  Senior Engineer  1995-12-01  9999-01-01"
      ]
     },
     "execution_count": 20,
     "metadata": {},
     "output_type": "execute_result"
    }
   ],
   "source": [
    "# Duplicates introduced due to employees having more than one title over time.\n",
    "\n",
    "titles.head()"
   ]
  },
  {
   "cell_type": "code",
   "execution_count": 21,
   "metadata": {},
   "outputs": [
    {
     "data": {
      "text/plain": [
       "<bound method DataFrame.count of         emp_no             title   from_date     to_date\n",
       "235814  259430   Senior Engineer  2002-08-01  9999-01-01\n",
       "135653  101563      Senior Staff  2002-08-01  9999-01-01\n",
       "436755  495525      Senior Staff  2002-08-01  9999-01-01\n",
       "158108  206731   Senior Engineer  2002-08-01  9999-01-01\n",
       "373714  452819   Senior Engineer  2002-08-01  9999-01-01\n",
       "...        ...               ...         ...         ...\n",
       "34098    33092      Senior Staff  1985-02-02  9999-01-01\n",
       "367959  448924   Senior Engineer  1985-02-02  9999-01-01\n",
       "50201    43969  Technique Leader  1985-02-02  1992-09-13\n",
       "148533  200241      Senior Staff  1985-02-01  9999-01-01\n",
       "200163  235233   Senior Engineer  1985-02-01  9999-01-01\n",
       "\n",
       "[300024 rows x 4 columns]>"
      ]
     },
     "execution_count": 21,
     "metadata": {},
     "output_type": "execute_result"
    }
   ],
   "source": [
    "# Need to only keep the most recent title.\n",
    "# Perform a sort by from_date, descending.\n",
    "\n",
    "titles.sort_values(by=['from_date'], ascending=False, inplace=True)\n",
    "\n",
    "# Then groupby the emp_no and take the \"first\" (actually the last) record for each employee.\n",
    "\n",
    "single_titles = titles.groupby(['emp_no']).head(1)\n",
    "\n",
    "# Verify we're down to 300,024 employees and also look to see\n",
    "# that to_date is undefined (= 9999-01-01) for most.\n",
    "single_titles.count"
   ]
  },
  {
   "cell_type": "code",
   "execution_count": 22,
   "metadata": {},
   "outputs": [],
   "source": [
    "# Combine the DFs into a common DF.\n",
    "from functools import reduce\n",
    "\n",
    "dfs = [employee, salaries, single_titles]\n",
    "combo = reduce(lambda left,right: pd.merge(left,right,on='emp_no'), dfs)"
   ]
  },
  {
   "cell_type": "code",
   "execution_count": 23,
   "metadata": {},
   "outputs": [
    {
     "data": {
      "text/plain": [
       "emp_no         300024\n",
       "birth_date     300024\n",
       "first_name     300024\n",
       "last_name      300024\n",
       "sex            300024\n",
       "hire_date      300024\n",
       "salary         300024\n",
       "from_date_x    300024\n",
       "to_date_x      300024\n",
       "title          300024\n",
       "from_date_y    300024\n",
       "to_date_y      300024\n",
       "dtype: int64"
      ]
     },
     "execution_count": 23,
     "metadata": {},
     "output_type": "execute_result"
    }
   ],
   "source": [
    "# Check the new DF count.\n",
    "\n",
    "combo.count()"
   ]
  },
  {
   "cell_type": "code",
   "execution_count": 24,
   "metadata": {},
   "outputs": [
    {
     "data": {
      "text/html": [
       "<div>\n",
       "<style scoped>\n",
       "    .dataframe tbody tr th:only-of-type {\n",
       "        vertical-align: middle;\n",
       "    }\n",
       "\n",
       "    .dataframe tbody tr th {\n",
       "        vertical-align: top;\n",
       "    }\n",
       "\n",
       "    .dataframe thead th {\n",
       "        text-align: right;\n",
       "    }\n",
       "</style>\n",
       "<table border=\"1\" class=\"dataframe\">\n",
       "  <thead>\n",
       "    <tr style=\"text-align: right;\">\n",
       "      <th></th>\n",
       "      <th>emp_no</th>\n",
       "      <th>salary</th>\n",
       "      <th>from_date</th>\n",
       "      <th>to_date</th>\n",
       "    </tr>\n",
       "  </thead>\n",
       "  <tbody>\n",
       "    <tr>\n",
       "      <td>0</td>\n",
       "      <td>10001</td>\n",
       "      <td>$60,117.00</td>\n",
       "      <td>1986-06-26</td>\n",
       "      <td>1987-06-26</td>\n",
       "    </tr>\n",
       "    <tr>\n",
       "      <td>1</td>\n",
       "      <td>10002</td>\n",
       "      <td>$65,828.00</td>\n",
       "      <td>1996-08-03</td>\n",
       "      <td>1997-08-03</td>\n",
       "    </tr>\n",
       "    <tr>\n",
       "      <td>2</td>\n",
       "      <td>10003</td>\n",
       "      <td>$40,006.00</td>\n",
       "      <td>1995-12-03</td>\n",
       "      <td>1996-12-02</td>\n",
       "    </tr>\n",
       "    <tr>\n",
       "      <td>3</td>\n",
       "      <td>10004</td>\n",
       "      <td>$40,054.00</td>\n",
       "      <td>1986-12-01</td>\n",
       "      <td>1987-12-01</td>\n",
       "    </tr>\n",
       "    <tr>\n",
       "      <td>4</td>\n",
       "      <td>10005</td>\n",
       "      <td>$78,228.00</td>\n",
       "      <td>1989-09-12</td>\n",
       "      <td>1990-09-12</td>\n",
       "    </tr>\n",
       "  </tbody>\n",
       "</table>\n",
       "</div>"
      ],
      "text/plain": [
       "   emp_no      salary   from_date     to_date\n",
       "0   10001  $60,117.00  1986-06-26  1987-06-26\n",
       "1   10002  $65,828.00  1996-08-03  1997-08-03\n",
       "2   10003  $40,006.00  1995-12-03  1996-12-02\n",
       "3   10004  $40,054.00  1986-12-01  1987-12-01\n",
       "4   10005  $78,228.00  1989-09-12  1990-09-12"
      ]
     },
     "execution_count": 24,
     "metadata": {},
     "output_type": "execute_result"
    }
   ],
   "source": [
    "salaries.head()"
   ]
  },
  {
   "cell_type": "code",
   "execution_count": 25,
   "metadata": {},
   "outputs": [
    {
     "name": "stdout",
     "output_type": "stream",
     "text": [
      "<class 'pandas.core.frame.DataFrame'>\n",
      "Int64Index: 300024 entries, 0 to 300023\n",
      "Data columns (total 12 columns):\n",
      "emp_no         300024 non-null int64\n",
      "birth_date     300024 non-null object\n",
      "first_name     300024 non-null object\n",
      "last_name      300024 non-null object\n",
      "sex            300024 non-null object\n",
      "hire_date      300024 non-null object\n",
      "salary         300024 non-null float64\n",
      "from_date_x    300024 non-null object\n",
      "to_date_x      300024 non-null object\n",
      "title          300024 non-null object\n",
      "from_date_y    300024 non-null object\n",
      "to_date_y      300024 non-null object\n",
      "dtypes: float64(1), int64(1), object(10)\n",
      "memory usage: 29.8+ MB\n"
     ]
    }
   ],
   "source": [
    "# Check the columns.\n",
    "combo['salary'] = combo['salary'].str.replace('$', '')\n",
    "combo['salary'] = combo['salary'].str.replace(',', '')\n",
    "combo['salary'] = combo['salary'].astype(float)\n",
    "\n",
    "combo.info()"
   ]
  },
  {
   "cell_type": "code",
   "execution_count": 26,
   "metadata": {
    "scrolled": false
   },
   "outputs": [
    {
     "name": "stdout",
     "output_type": "stream",
     "text": [
      "The mean salary of all employees is: $52970.73\n",
      "The standard deviation of all employee's salary is: $14301.48\n"
     ]
    },
    {
     "data": {
      "image/png": "[encoded data removed]",
      "text/plain": [
       "<Figure size 576x396 with 1 Axes>"
      ]
     },
     "metadata": {},
     "output_type": "display_data"
    }
   ],
   "source": [
    "# Create a histogram to visualize the most common salary ranges for employees.\n",
    "\n",
    "# Calculate the summary statistics and plot the histogram of the salary\n",
    "print(f\"The mean salary of all employees is: ${round(combo.salary.mean(),2)}\")\n",
    "print(f\"The standard deviation of all employee's salary is: ${round(combo.salary.std(),2)}\")\n",
    "plt.hist(combo.salary)\n",
    "plt.xlabel(\"Salary\")\n",
    "plt.ylabel(\"Number of Employees\")\n",
    "plt.show()"
   ]
  },
  {
   "cell_type": "code",
   "execution_count": 27,
   "metadata": {},
   "outputs": [
    {
     "name": "stdout",
     "output_type": "stream",
     "text": [
      "title\n",
      "Assistant Engineer    48564.434447\n",
      "Engineer              48535.336511\n",
      "Manager               49600.555556\n",
      "Senior Engineer       48506.799871\n",
      "Senior Staff          58503.993042\n",
      "Staff                 58432.774004\n",
      "Technique Leader      48582.425800\n",
      "Name: salary, dtype: float64\n"
     ]
    }
   ],
   "source": [
    "## Create a bar chart of average salary by title.\n",
    "# Get the number of data points for each treatment by counting the titles for each drug.\n",
    "avg_sal_title = combo.groupby(\"title\").mean()['salary']\n",
    "\n",
    "print(avg_sal_title)"
   ]
  },
  {
   "cell_type": "code",
   "execution_count": 28,
   "metadata": {},
   "outputs": [
    {
     "data": {
      "text/plain": [
       "Text(0, 0.5, 'Average Salary ($USD)')"
      ]
     },
     "execution_count": 28,
     "metadata": {},
     "output_type": "execute_result"
    },
    {
     "data": {
      "image/png": "[encoded data removed]",
      "text/plain": [
       "<Figure size 576x396 with 1 Axes>"
      ]
     },
     "metadata": {},
     "output_type": "display_data"
    }
   ],
   "source": [
    "# Create a list of the titles.\n",
    "title = combo['title'].unique()\n",
    "\n",
    "# Sort the titles.\n",
    "title.sort()\n",
    "\n",
    "# Creat a pyplot bar plot with titles vertically oriented.\n",
    "plt.xticks(rotation='vertical')\n",
    "plt.bar(title, avg_sal_title)\n",
    "plt.xlabel('Title')\n",
    "plt.ylabel('Average Salary ($USD)')"
   ]
  },
  {
   "cell_type": "code",
   "execution_count": null,
   "metadata": {},
   "outputs": [],
   "source": []
  }
 ],
 "metadata": {
  "kernelspec": {
   "display_name": "Python 3",
   "language": "python",
   "name": "python3"
  },
  "language_info": {
   "codemirror_mode": {
    "name": "ipython",
    "version": 3
   },
   "file_extension": ".py",
   "mimetype": "text/x-python",
   "name": "python",
   "nbconvert_exporter": "python",
   "pygments_lexer": "ipython3",
   "version": "3.7.4"
  }
 },
 "nbformat": 4,
 "nbformat_minor": 2
}
